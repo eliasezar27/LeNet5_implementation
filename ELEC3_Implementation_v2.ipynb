{
 "cells": [
  {
   "cell_type": "markdown",
   "metadata": {
    "id": "DLK4A7oHdKVN"
   },
   "source": [
    "# **LeNet5 Model Implementation**\n",
    "\n",
    "Note: Skip the 'Initialize model' part if not interested in retraining the model"
   ]
  },
  {
   "cell_type": "markdown",
   "metadata": {
    "id": "s7Y6-YkFdPt8"
   },
   "source": [
    "### **Group Pogi**\n",
    "*   Programmed the model\n",
    "    *   Cabo, Elias Ezar\n",
    "*   Researched the model (layer structure and trainable parameters)\n",
    "    *   Cabo, Elias Ezar\n",
    "    *   Villegas, Lex\n",
    "*   Trained and tested the model\n",
    "    *   Villegas, Lex\n",
    "    *   Salibio, John Paul\n",
    "*  Data Prerpocessing and Cleanup\n",
    "    *   Sabarre, Christian\n",
    "    *   Salibio, John Paul\n",
    "\n"
   ]
  },
  {
   "cell_type": "code",
   "execution_count": 2,
   "metadata": {
    "id": "pPGVdWAAhqIU"
   },
   "outputs": [],
   "source": [
    "import codecs\n",
    "import os\n",
    "import zipfile as zp\n",
    "import requests\n",
    "import shutil \n",
    "import gzip\n",
    "import struct\n",
    "import numpy as np\n",
    "import matplotlib.pyplot as plt\n",
    "import string\n",
    "import random\n",
    "import tensorflow as tf\n",
    "import cv2 as cv\n",
    "import pandas as pd"
   ]
  },
  {
   "cell_type": "code",
   "execution_count": 3,
   "metadata": {
    "colab": {
     "base_uri": "https://localhost:8080/"
    },
    "id": "-sOsf5ze05hP",
    "outputId": "964257aa-c8e5-4785-b572-09df1de3e493"
   },
   "outputs": [
    {
     "name": "stderr",
     "output_type": "stream",
     "text": [
      "fatal: destination path 'LeNet5_implemetation' already exists and is not an empty directory.\n"
     ]
    }
   ],
   "source": [
    "!git clone https://github.com/eliasezar27/LeNet5_implemetation.git"
   ]
  },
  {
   "cell_type": "code",
   "execution_count": 4,
   "metadata": {
    "id": "LEm5R543k-MS"
   },
   "outputs": [],
   "source": [
    "# Dataset Source: http://www.itl.nist.gov/iaui/vip/cs_links/EMNIST/gzip.zip\n",
    "base_dir = './elec3_dataset'\n",
    "zip_file = 'gzip.zip'\n",
    "zip_file2 = 'baybayin_dataset.zip'\n",
    "gzipFldr_path = os.path.join(base_dir, 'gzip')\n",
    "\n",
    "try:\n",
    "  os.mkdir(base_dir)\n",
    "except:\n",
    "  pass"
   ]
  },
  {
   "cell_type": "markdown",
   "metadata": {
    "id": "I30Kx7Ivywjq"
   },
   "source": [
    "### Fetch and unzip the EMNIST dataset using the link provided"
   ]
  },
  {
   "cell_type": "code",
   "execution_count": 5,
   "metadata": {
    "colab": {
     "base_uri": "https://localhost:8080/"
    },
    "id": "cxza8ManpyGu",
    "outputId": "6e604fac-7ff0-4362-bba8-a9ce2e7f8ce4"
   },
   "outputs": [
    {
     "data": {
      "text/plain": [
       "561753746"
      ]
     },
     "execution_count": 5,
     "metadata": {},
     "output_type": "execute_result"
    }
   ],
   "source": [
    "url = 'http://www.itl.nist.gov/iaui/vip/cs_links/EMNIST/gzip.zip'\n",
    "r = requests.get(url, allow_redirects=True)\n",
    "opn_zipFile = open(os.path.join(base_dir, zip_file), 'wb')\n",
    "opn_zipFile.write(r.content)"
   ]
  },
  {
   "cell_type": "code",
   "execution_count": 6,
   "metadata": {
    "id": "5dqHNRdtixVY"
   },
   "outputs": [],
   "source": [
    "with zp.ZipFile(os.path.join(base_dir, zip_file), 'r') as zip_ref:\n",
    "    zip_ref.extractall(base_dir)"
   ]
  },
  {
   "cell_type": "markdown",
   "metadata": {
    "id": "2m5OfVI4yi1Z"
   },
   "source": [
    "### Fetch and unzip the Baybayin Dataset"
   ]
  },
  {
   "cell_type": "code",
   "execution_count": 7,
   "metadata": {
    "colab": {
     "base_uri": "https://localhost:8080/"
    },
    "id": "NEMzrR-1yiH1",
    "outputId": "1dffd80b-b790-4908-bcd6-6eb7f7d13bc0"
   },
   "outputs": [
    {
     "data": {
      "text/plain": [
       "160760"
      ]
     },
     "execution_count": 7,
     "metadata": {},
     "output_type": "execute_result"
    }
   ],
   "source": [
    "url = 'https://github.com/eliasezar27/LeNet5_implemetation/blob/main/baybayin_dataset.zip'\n",
    "r = requests.get(url, allow_redirects=True)\n",
    "opn_zipFile = open(os.path.join(base_dir, zip_file2), 'wb')\n",
    "opn_zipFile.write(r.content)"
   ]
  },
  {
   "cell_type": "code",
   "execution_count": 8,
   "metadata": {
    "id": "XwXIJ5t6yiO_"
   },
   "outputs": [],
   "source": [
    "with zp.ZipFile('./LeNet5_implemetation/baybayin_dataset.zip', 'r') as zip_ref:\n",
    "    zip_ref.extractall(base_dir)"
   ]
  },
  {
   "cell_type": "markdown",
   "metadata": {
    "id": "mhfJadrbdDBX"
   },
   "source": [
    "### Define Functions"
   ]
  },
  {
   "cell_type": "code",
   "execution_count": 9,
   "metadata": {
    "id": "cgw0hQCXsmGL"
   },
   "outputs": [],
   "source": [
    "def read_idx(file):\n",
    "  print('Processing data from %s.' % file)\n",
    "  with gzip.open(file, 'rb') as f:\n",
    "    z, dtype, dim = struct.unpack('>HBB', f.read(4))\n",
    "    print('Dimensions: ', dim)\n",
    "    shape = tuple(struct.unpack('>I', f.read(4))[0] for d in range(dim))\n",
    "    print(\"Shape: \", shape)\n",
    "    return np.frombuffer(f.read(), dtype=np.uint8).reshape(shape)"
   ]
  },
  {
   "cell_type": "code",
   "execution_count": 10,
   "metadata": {
    "id": "93VscQEJsmJ9"
   },
   "outputs": [],
   "source": [
    "def load_mnist(dl_path):\n",
    "  train_images = os.path.join(dl_path, 'emnist-letters-train-images-idx3-ubyte.gz')\n",
    "  train_labels = os.path.join(dl_path, 'emnist-letters-train-labels-idx1-ubyte.gz')\n",
    "  test_images = os.path.join(dl_path, 'emnist-letters-test-images-idx3-ubyte.gz')\n",
    "  test_labels = os.path.join(dl_path, 'emnist-letters-test-labels-idx1-ubyte.gz')\n",
    "\n",
    "  train_x = read_idx(train_images)\n",
    "  train_y = read_idx(train_labels)\n",
    "\n",
    "  test_x = read_idx(test_images)\n",
    "  test_y = read_idx(test_labels)\n",
    "\n",
    "  return (train_x, train_y, test_x, test_y)"
   ]
  },
  {
   "cell_type": "code",
   "execution_count": 11,
   "metadata": {
    "id": "e_HYoza25pL8"
   },
   "outputs": [],
   "source": [
    "def load_baybayin(dl_path):\n",
    "  train_images = os.path.join(dl_path, 'train-images-idx3-ubyte.gz')\n",
    "  train_labels = os.path.join(dl_path, 'train-labels-idx1-ubyte.gz')\n",
    "  test_images = os.path.join(dl_path, 'test-images-idx3-ubyte.gz')\n",
    "  test_labels = os.path.join(dl_path, 'test-labels-idx1-ubyte.gz')\n",
    "\n",
    "  train_x = read_idx(train_images)\n",
    "  train_y = read_idx(train_labels)\n",
    "\n",
    "  test_x = read_idx(test_images)\n",
    "  test_y = read_idx(test_labels)\n",
    "\n",
    "  return (train_x, train_y, test_x, test_y)"
   ]
  },
  {
   "cell_type": "code",
   "execution_count": 12,
   "metadata": {
    "id": "QXW8ecRmCk5i"
   },
   "outputs": [],
   "source": [
    "def show_shapes(x1, y1, x2, y2, digit = True):\n",
    "    n = 'Digit' if digit else 'Alphabet'\n",
    "\n",
    "    print('Mnist ', n, ' Dataset shapes: ')\n",
    "    print('train X: ', x1.shape)\n",
    "    print('train Y: ', y1.shape)\n",
    "    print('test X: ', x2.shape)\n",
    "    print('test Y: ',y2.shape)\n",
    "\n",
    "def show_shapes2(x1, y1, x2, y2):\n",
    "    print('Baybayin Dataset shapes: ')\n",
    "    print('train X: ', x1.shape)\n",
    "    print('train Y: ', y1.shape)\n",
    "    print('test X: ', x2.shape)\n",
    "    print('test Y: ',y2.shape)"
   ]
  },
  {
   "cell_type": "code",
   "execution_count": 13,
   "metadata": {
    "id": "4ROnoltADlgk"
   },
   "outputs": [],
   "source": [
    "def transpose_image(data):\n",
    "    out = [j for j in range(len(data))]\n",
    "    for i in range(len(data)):\n",
    "        out[i] = data[i].T\n",
    "\n",
    "    return np.array(out)"
   ]
  },
  {
   "cell_type": "code",
   "execution_count": 14,
   "metadata": {
    "id": "7hG1TGatG9QD"
   },
   "outputs": [],
   "source": [
    "def show_data(image,label, digit = True):\n",
    "    if digit: \n",
    "        rndm_digit = random.choice(list(range(0,9)))\n",
    "        sample_index = random.choice(list(np.where(label == rndm_digit)[0]))\n",
    "        label_list = list(i for i in range(0,10))\n",
    "        title_txt = 'digit'\n",
    "        data_val = str(label_list[label[sample_index]])\n",
    "    else:\n",
    "        rndm_letter = random.choice(list(range(1,27)))\n",
    "        sample_index = random.choice(list(np.where(label == rndm_letter)[0]))\n",
    "        label_list = list(string.ascii_lowercase)\n",
    "        title_txt = 'letter'\n",
    "        data_val = str(label_list[label[sample_index]-1])\n",
    "\n",
    "    plt.imshow(image[sample_index].reshape((28,28)), cmap=plt.cm.binary)\n",
    "    plt.colorbar()\n",
    "    plt.title('The '+ title_txt+' is: '+ data_val)\n",
    "    plt.show()\n",
    "\n",
    "    return image[sample_index]\n",
    "\n",
    "def show_data2(image,label):\n",
    "    rndm_letter = random.choice(list(range(0,17)))\n",
    "    sample_index = random.choice(list(np.where(label == rndm_letter)[0]))\n",
    "    label_list = ['a', 'ba', 'dara', 'ei', 'ga', 'ha', 'ka', 'la', 'ma', 'na', 'nga', 'ou', 'pa', 'sa', 'ta', 'wa', 'ya']\n",
    "    title_txt = 'letter'\n",
    "    data_val = str(label_list[label[sample_index]])\n",
    "\n",
    "    plt.imshow(image[sample_index].reshape((28,28)), cmap=plt.cm.binary)\n",
    "    plt.colorbar()\n",
    "    plt.title('The '+ title_txt+' is: '+ data_val)\n",
    "    plt.show()\n",
    "\n",
    "    return image[sample_index]"
   ]
  },
  {
   "cell_type": "code",
   "execution_count": 15,
   "metadata": {
    "id": "FXjQQMtzKxyO"
   },
   "outputs": [],
   "source": [
    "def plot_accuracy(history):\n",
    "    plt.plot(history.history['accuracy'])\n",
    "    plt.plot(history.history['val_accuracy'])\n",
    "    plt.title('model accuracy')\n",
    "    plt.ylabel('accuracy')\n",
    "    plt.xlabel('epoch')\n",
    "    plt.legend(['train', 'val'], loc='upper left')\n",
    "    plt.show()\n",
    "\n",
    "def plot_loss(history):\n",
    "    plt.plot(history.history['loss'])\n",
    "    plt.plot(history.history['val_loss'])\n",
    "    plt.title('model loss')\n",
    "    plt.ylabel('loss')\n",
    "    plt.xlabel('epoch')\n",
    "    plt.legend(['train', 'val'], loc='upper left')\n",
    "    plt.show()"
   ]
  },
  {
   "cell_type": "markdown",
   "metadata": {
    "id": "hDvKOd038jbO"
   },
   "source": [
    "## **Emnist Letters**\n",
    "Source: http://www.itl.nist.gov/iaui/vip/cs_links/EMNIST/gzip.zip\t\n",
    "\n",
    "arXiv:1702.05373\n",
    "---\n",
    "\n",
    "Description: The used Alphabet dataset for alphabet classification is the combination of capital and small letters"
   ]
  },
  {
   "cell_type": "code",
   "execution_count": 16,
   "metadata": {
    "colab": {
     "base_uri": "https://localhost:8080/"
    },
    "id": "yL0pbemlsmN7",
    "outputId": "c0637cb1-5abb-46a6-f20c-5dccc4f8d809"
   },
   "outputs": [
    {
     "name": "stdout",
     "output_type": "stream",
     "text": [
      "Processing data from ./elec3_dataset\\gzip\\emnist-letters-train-images-idx3-ubyte.gz.\n",
      "Dimensions:  3\n",
      "Shape:  (124800, 28, 28)\n",
      "Processing data from ./elec3_dataset\\gzip\\emnist-letters-train-labels-idx1-ubyte.gz.\n",
      "Dimensions:  1\n",
      "Shape:  (124800,)\n",
      "Processing data from ./elec3_dataset\\gzip\\emnist-letters-test-images-idx3-ubyte.gz.\n",
      "Dimensions:  3\n",
      "Shape:  (20800, 28, 28)\n",
      "Processing data from ./elec3_dataset\\gzip\\emnist-letters-test-labels-idx1-ubyte.gz.\n",
      "Dimensions:  1\n",
      "Shape:  (20800,)\n"
     ]
    }
   ],
   "source": [
    "# Load Emnist alphabet Dataset\n",
    "\n",
    "train_x_letters, train_y_letters, test_x_letters, test_y_letters = load_mnist(gzipFldr_path)"
   ]
  },
  {
   "cell_type": "code",
   "execution_count": 17,
   "metadata": {
    "id": "02-K9dJG9TF7"
   },
   "outputs": [],
   "source": [
    "# Transforming Image\n",
    "\n",
    "train_x_letters = transpose_image(train_x_letters)\n",
    "test_x_letters = transpose_image(test_x_letters)\n",
    "\n",
    "train_x_letters = train_x_letters.astype('float32')\n",
    "test_x_letters = test_x_letters.astype('float32')\n",
    "\n",
    "train_x_letters /= 255.0\n",
    "test_x_letters /= 255.0"
   ]
  },
  {
   "cell_type": "code",
   "execution_count": 18,
   "metadata": {
    "colab": {
     "base_uri": "https://localhost:8080/"
    },
    "id": "wtXf6-ggGwPt",
    "outputId": "c846b0f1-42f3-4a49-db56-21ea82acf06e"
   },
   "outputs": [
    {
     "name": "stdout",
     "output_type": "stream",
     "text": [
      "Mnist  Alphabet  Dataset shapes: \n",
      "train X:  (124800, 28, 28)\n",
      "train Y:  (124800,)\n",
      "test X:  (20800, 28, 28)\n",
      "test Y:  (20800,)\n"
     ]
    }
   ],
   "source": [
    "show_shapes(train_x_letters, train_y_letters, test_x_letters, test_y_letters, False)"
   ]
  },
  {
   "cell_type": "markdown",
   "metadata": {
    "id": "XH9RNZaF1yPq"
   },
   "source": [
    "### Display random image dataset"
   ]
  },
  {
   "cell_type": "code",
   "execution_count": 19,
   "metadata": {
    "colab": {
     "base_uri": "https://localhost:8080/",
     "height": 281
    },
    "id": "aSUVDjXismQz",
    "outputId": "2b15d980-3057-4efb-83a2-7ee3e8817255"
   },
   "outputs": [
    {
     "data": {
      "image/png": "[encoded data removed]",
      "text/plain": [
       "<Figure size 432x288 with 2 Axes>"
      ]
     },
     "metadata": {
      "needs_background": "light"
     },
     "output_type": "display_data"
    }
   ],
   "source": [
    "# Randomly show image from training dataset\n",
    "img = show_data(train_x_letters, train_y_letters, digit = False)"
   ]
  },
  {
   "cell_type": "code",
   "execution_count": 20,
   "metadata": {
    "colab": {
     "base_uri": "https://localhost:8080/",
     "height": 281
    },
    "id": "ghPtMZnm18dT",
    "outputId": "b26eac0a-84ae-4469-d420-a424a7ec0f35"
   },
   "outputs": [
    {
     "data": {
      "image/png": "[encoded data removed]",
      "text/plain": [
       "<Figure size 432x288 with 2 Axes>"
      ]
     },
     "metadata": {
      "needs_background": "light"
     },
     "output_type": "display_data"
    }
   ],
   "source": [
    "# Randomly show image from testing dataset\n",
    "img = show_data(test_x_letters, test_y_letters, digit = False)\n"
   ]
  },
  {
   "cell_type": "code",
   "execution_count": 21,
   "metadata": {
    "colab": {
     "base_uri": "https://localhost:8080/"
    },
    "id": "eIVgxsAcaf3D",
    "outputId": "d5828424-62a4-4ecd-ec66-3ad2856b9939"
   },
   "outputs": [
    {
     "name": "stdout",
     "output_type": "stream",
     "text": [
      "Mnist  Alphabet  Dataset shapes: \n",
      "train X:  (124800, 28, 28, 1)\n",
      "train Y:  (124800,)\n",
      "test X:  (20800, 28, 28, 1)\n",
      "test Y:  (20800,)\n"
     ]
    }
   ],
   "source": [
    "# Adjust shapes of data\n",
    "\n",
    "# train set / data \n",
    "train_x_letters = np.expand_dims(train_x_letters, axis=-1)\n",
    "\n",
    "# validation set / data \n",
    "test_x_letters = np.expand_dims(test_x_letters, axis=-1)\n",
    "\n",
    "show_shapes(train_x_letters, train_y_letters, test_x_letters, test_y_letters, False)"
   ]
  },
  {
   "cell_type": "markdown",
   "metadata": {
    "id": "WbBgw_2P8q64"
   },
   "source": [
    "## **Mnist Digits**"
   ]
  },
  {
   "cell_type": "code",
   "execution_count": 22,
   "metadata": {
    "colab": {
     "base_uri": "https://localhost:8080/"
    },
    "id": "tOxVThsy8ptO",
    "outputId": "7d25d39f-ed05-425a-96ca-68604062f233"
   },
   "outputs": [
    {
     "name": "stdout",
     "output_type": "stream",
     "text": [
      "Mnist  Digit  Dataset shapes: \n",
      "train X:  (60000, 28, 28)\n",
      "train Y:  (60000,)\n",
      "test X:  (10000, 28, 28)\n",
      "test Y:  (10000,)\n"
     ]
    }
   ],
   "source": [
    "# Load MNIST dataset using tensorflow\n",
    "\n",
    "(x_train, y_train), (x_test, y_test) = tf.keras.datasets.mnist.load_data()\n",
    "\n",
    "x_train = x_train.astype('float32') / 255.0\n",
    "x_test = x_test.astype('float32') / 255.0\n",
    "\n",
    "show_shapes(x_train, y_train, x_test, y_test)\n",
    "\n",
    "# x_train.shape, y_train.shape: (60000, 28, 28) (60000,)\n",
    "# x_test.shape,  y_test.shape : (10000, 28, 28) (10000,)"
   ]
  },
  {
   "cell_type": "code",
   "execution_count": 23,
   "metadata": {
    "colab": {
     "base_uri": "https://localhost:8080/",
     "height": 281
    },
    "id": "oWt6sj789aXC",
    "outputId": "7e103145-e381-4e4c-f3b4-6e946b609a35"
   },
   "outputs": [
    {
     "data": {
      "image/png": "[encoded data removed]",
      "text/plain": [
       "<Figure size 432x288 with 2 Axes>"
      ]
     },
     "metadata": {
      "needs_background": "light"
     },
     "output_type": "display_data"
    }
   ],
   "source": [
    "img = show_data(x_train, y_train)"
   ]
  },
  {
   "cell_type": "code",
   "execution_count": 24,
   "metadata": {
    "colab": {
     "base_uri": "https://localhost:8080/",
     "height": 281
    },
    "id": "bTPVgIat_5TM",
    "outputId": "b4e2d04f-8ff5-4cb8-fb8d-044c680bbdf3"
   },
   "outputs": [
    {
     "data": {
      "image/png": "[encoded data removed]",
      "text/plain": [
       "<Figure size 432x288 with 2 Axes>"
      ]
     },
     "metadata": {
      "needs_background": "light"
     },
     "output_type": "display_data"
    }
   ],
   "source": [
    "img = show_data(x_test, y_test)"
   ]
  },
  {
   "cell_type": "code",
   "execution_count": 25,
   "metadata": {
    "colab": {
     "base_uri": "https://localhost:8080/"
    },
    "id": "1kYsQRht-yYd",
    "outputId": "69118a53-3012-4c48-83f1-f07dcae7f1c8"
   },
   "outputs": [
    {
     "name": "stdout",
     "output_type": "stream",
     "text": [
      "Mnist  Digit  Dataset shapes: \n",
      "train X:  (60000, 28, 28, 1)\n",
      "train Y:  (60000,)\n",
      "test X:  (10000, 28, 28, 1)\n",
      "test Y:  (10000,)\n"
     ]
    }
   ],
   "source": [
    "# Adjust shapes of data\n",
    "\n",
    "# train set / data \n",
    "x_train = np.expand_dims(x_train, axis=-1)\n",
    "\n",
    "# validation set / data \n",
    "x_test = np.expand_dims(x_test, axis=-1)\n",
    "\n",
    "show_shapes(x_train, y_train, x_test, y_test)"
   ]
  },
  {
   "cell_type": "markdown",
   "metadata": {
    "id": "x6cP82Ux6HXz"
   },
   "source": [
    "## **Baybayin Dataset**\n",
    "Source: https://data.mendeley.com/datasets/j6cgcfys77/1\t\n",
    "\n",
    "Daday, Mark Jovic (2020), “Handwritten Baybayin Symbols Dataset”, Mendeley Data, V1, doi: 10.17632/j6cgcfys77.1\n",
    "---\n",
    "\n",
    "Description: The Baybayin or “Alibata” became existing around year 1200’s. Baybayin was also approved in the house of congress in the Philippines to be a national writing system of the Philippines with a House bill No. of 1022. The extinct symbols are classified as syllabaries in the study of writing systems. The Philippine syllabaries have 17 signs representing 14 consonants which composed of ba, da, ka, ga, la, ha, ma, nga, na, sa, pa, wa, ya, ta, and 3 standalone vowels composes of a, i, and u at some late point the Mangyan’s added ra. The dataset contains 36,000 handwritten baybayin symbols data set."
   ]
  },
  {
   "cell_type": "code",
   "execution_count": 26,
   "metadata": {
    "colab": {
     "base_uri": "https://localhost:8080/"
    },
    "id": "9CBWj4Ow6ZH1",
    "outputId": "e90a51af-bd7c-48e2-9ee2-f68d15dc5cfc"
   },
   "outputs": [
    {
     "name": "stdout",
     "output_type": "stream",
     "text": [
      "Processing data from ./elec3_dataset\\train-images-idx3-ubyte.gz.\n",
      "Dimensions:  3\n",
      "Shape:  (30600, 28, 28)\n",
      "Processing data from ./elec3_dataset\\train-labels-idx1-ubyte.gz.\n",
      "Dimensions:  1\n",
      "Shape:  (30600,)\n",
      "Processing data from ./elec3_dataset\\test-images-idx3-ubyte.gz.\n",
      "Dimensions:  3\n",
      "Shape:  (5400, 28, 28)\n",
      "Processing data from ./elec3_dataset\\test-labels-idx1-ubyte.gz.\n",
      "Dimensions:  1\n",
      "Shape:  (5400,)\n"
     ]
    }
   ],
   "source": [
    "# Load Baybayin Dataset\n",
    "\n",
    "train_x_baybayin, train_y_baybayin, test_x_baybayin, test_y_baybayin = load_baybayin(base_dir)"
   ]
  },
  {
   "cell_type": "code",
   "execution_count": 27,
   "metadata": {
    "id": "sWBQcpZU6ZVG"
   },
   "outputs": [],
   "source": [
    "# Transforming Image\n",
    "\n",
    "train_x_baybayin = train_x_baybayin.astype('float32')\n",
    "test_x_baybayin = test_x_baybayin.astype('float32')\n",
    "\n",
    "train_x_baybayin /= 255.0\n",
    "test_x_baybayin /= 255.0"
   ]
  },
  {
   "cell_type": "code",
   "execution_count": 28,
   "metadata": {
    "colab": {
     "base_uri": "https://localhost:8080/"
    },
    "id": "xDJvwAxx6Zcy",
    "outputId": "4717d5c9-9203-40c2-d665-1857b6b5b3f3"
   },
   "outputs": [
    {
     "name": "stdout",
     "output_type": "stream",
     "text": [
      "Baybayin Dataset shapes: \n",
      "train X:  (30600, 28, 28)\n",
      "train Y:  (30600,)\n",
      "test X:  (5400, 28, 28)\n",
      "test Y:  (5400,)\n"
     ]
    }
   ],
   "source": [
    "show_shapes2(train_x_baybayin, train_y_baybayin, test_x_baybayin, test_y_baybayin)"
   ]
  },
  {
   "cell_type": "markdown",
   "metadata": {
    "id": "s17FEZPnPwSY"
   },
   "source": [
    "### Display random image dataset"
   ]
  },
  {
   "cell_type": "code",
   "execution_count": 29,
   "metadata": {
    "colab": {
     "base_uri": "https://localhost:8080/",
     "height": 281
    },
    "id": "qCunYGfSP1we",
    "outputId": "359d5cdd-beba-42d8-f135-d2e2347fb307"
   },
   "outputs": [
    {
     "data": {
      "image/png": "[encoded data removed]",
      "text/plain": [
       "<Figure size 432x288 with 2 Axes>"
      ]
     },
     "metadata": {
      "needs_background": "light"
     },
     "output_type": "display_data"
    }
   ],
   "source": [
    "# Randomly show image from training dataset\n",
    "img = show_data2(train_x_baybayin, train_y_baybayin)"
   ]
  },
  {
   "cell_type": "code",
   "execution_count": 30,
   "metadata": {
    "colab": {
     "base_uri": "https://localhost:8080/",
     "height": 281
    },
    "id": "JdsQ993AfYyM",
    "outputId": "6f1bf67f-f902-41bc-da4f-a596fa71223d"
   },
   "outputs": [
    {
     "data": {
      "image/png": "[encoded data removed]",
      "text/plain": [
       "<Figure size 432x288 with 2 Axes>"
      ]
     },
     "metadata": {
      "needs_background": "light"
     },
     "output_type": "display_data"
    }
   ],
   "source": [
    "# Randomly show image from testing dataset\n",
    "img = show_data2(test_x_baybayin, test_y_baybayin)"
   ]
  },
  {
   "cell_type": "markdown",
   "metadata": {
    "id": "rklalx3vPZDg"
   },
   "source": [
    "# **Initialize model**"
   ]
  },
  {
   "cell_type": "markdown",
   "metadata": {
    "id": "e6bNJPIZOmvl"
   },
   "source": [
    "![image.png](data:image/png;base64,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)"
   ]
  },
  {
   "cell_type": "markdown",
   "metadata": {
    "id": "HxoTsKRROpdB"
   },
   "source": [
    "LeCun et al. (1998)\n",
    "\n",
    "http://vision.stanford.edu/cs598_spring07/papers/Lecun98.pdf"
   ]
  },
  {
   "cell_type": "code",
   "execution_count": 30,
   "metadata": {
    "id": "vwmptbXjsmTa"
   },
   "outputs": [],
   "source": [
    "from tensorflow.keras import Model, layers, Input, optimizers"
   ]
  },
  {
   "cell_type": "code",
   "execution_count": 32,
   "metadata": {
    "id": "ucejTOhksmWy"
   },
   "outputs": [],
   "source": [
    "# Create a LeNet 5 model class\n",
    "\n",
    "class LeNetFive(Model):\n",
    "    def __init__(self, num_classes, name=''):\n",
    "        super(LeNetFive, self).__init__()\n",
    "        self.modelName = name\n",
    "        self.inputSz = (32, 32, 1)\n",
    "\n",
    "        # define all layers in init\n",
    "\n",
    "        #Preprocess\n",
    "        self.reshapeInp = layers.Resizing(self.inputSz[0], self.inputSz[0], name='resize_input')\n",
    "\n",
    "        # Input layer\n",
    "        layers.InputLayer(input_shape=(self.inputSz), name='Input')\n",
    "\n",
    "        # First Convolutional Layer\n",
    "        self.conv1 = layers.Conv2D(filters=6, kernel_size=5, strides=1, activation='tanh', name='c1')\n",
    "        self.avg_pool1  = layers.AveragePooling2D(pool_size=2, strides=2, name='s2')\n",
    "\n",
    "        # Second Convolutional Layer\n",
    "        self.conv2 = layers.Conv2D(filters=16, kernel_size=5, strides=1, activation='tanh', name='c3')\n",
    "        self.avg_pool2  = layers.AveragePooling2D(pool_size=2, strides=2, name='s4')\n",
    "\n",
    "        # Fully connected layers\n",
    "        self.conv3 = layers.Conv2D(120, 5, activation='tanh', name='c5')\n",
    "        self.flat = layers.Flatten(name='flat')\n",
    "        self.dense1 = layers.Dense(84, activation='tanh', name='f6')\n",
    "        self.dense2 = layers.Dense(num_classes, activation='softmax', name='output')\n",
    "\n",
    "\n",
    "    def call(self, input_tensor, training=False):\n",
    "        x = self.reshapeInp(input_tensor)\n",
    "\n",
    "        # forward pass: First layer \n",
    "        x = self.conv1(x)\n",
    "        x = self.avg_pool1(x)\n",
    "\n",
    "        # forward pass: Second layer \n",
    "        x = self.conv2(x)\n",
    "        x = self.avg_pool2(x)\n",
    "\n",
    "        # Fully connected layers\n",
    "        x = self.conv3(x)\n",
    "        x = self.flat(x)\n",
    "        x = self.dense1(x)\n",
    "        return self.dense2(x)\n",
    "\n",
    "    def leNetModel(self):\n",
    "        # Model attributes to tf Model class\n",
    "\n",
    "        self.inpTensor = Input(shape=(28,28,1), name='InputLayer')\n",
    "        x1 = self.inpTensor\n",
    "        return Model(inputs=[x1], outputs=self.call(x1), name=self.modelName)"
   ]
  },
  {
   "cell_type": "markdown",
   "metadata": {
    "id": "u6ikkSHeIEtu"
   },
   "source": [
    "## Instantiate and Train LeNet5 for Digit classification"
   ]
  },
  {
   "cell_type": "code",
   "execution_count": 33,
   "metadata": {
    "colab": {
     "base_uri": "https://localhost:8080/"
    },
    "id": "yq891HOYeKv6",
    "outputId": "1efe39d6-7a5b-49ca-ca42-08ef9c81cbe7"
   },
   "outputs": [
    {
     "name": "stdout",
     "output_type": "stream",
     "text": [
      "Model: \"LeNet_for_digits\"\n",
      "_________________________________________________________________\n",
      " Layer (type)                Output Shape              Param #   \n",
      "=================================================================\n",
      " InputLayer (InputLayer)     [(None, 28, 28, 1)]       0         \n",
      "                                                                 \n",
      " resize_input (Resizing)     (None, 32, 32, 1)         0         \n",
      "                                                                 \n",
      " c1 (Conv2D)                 (None, 28, 28, 6)         156       \n",
      "                                                                 \n",
      " s2 (AveragePooling2D)       (None, 14, 14, 6)         0         \n",
      "                                                                 \n",
      " c3 (Conv2D)                 (None, 10, 10, 16)        2416      \n",
      "                                                                 \n",
      " s4 (AveragePooling2D)       (None, 5, 5, 16)          0         \n",
      "                                                                 \n",
      " c5 (Conv2D)                 (None, 1, 1, 120)         48120     \n",
      "                                                                 \n",
      " flat (Flatten)              (None, 120)               0         \n",
      "                                                                 \n",
      " f6 (Dense)                  (None, 84)                10164     \n",
      "                                                                 \n",
      " output (Dense)              (None, 10)                850       \n",
      "                                                                 \n",
      "=================================================================\n",
      "Total params: 61,706\n",
      "Trainable params: 61,706\n",
      "Non-trainable params: 0\n",
      "_________________________________________________________________\n"
     ]
    }
   ],
   "source": [
    "# instantiate model object\n",
    "model_digits = LeNetFive(10, 'LeNet_for_digits').leNetModel()\n",
    "\n",
    "# print summary\n",
    "model_digits.summary()"
   ]
  },
  {
   "cell_type": "code",
   "execution_count": 34,
   "metadata": {
    "colab": {
     "base_uri": "https://localhost:8080/",
     "height": 1000
    },
    "id": "y57Jl50-ZdLU",
    "outputId": "47d81382-377e-4f51-850a-38e6585668b7"
   },
   "outputs": [
    {
     "name": "stdout",
     "output_type": "stream",
     "text": [
      "('You must install pydot (`pip install pydot`) and install graphviz (see instructions at https://graphviz.gitlab.io/download/) ', 'for plot_model/model_to_dot to work.')\n"
     ]
    }
   ],
   "source": [
    "tf.keras.utils.plot_model(model_digits,show_shapes=True) "
   ]
  },
  {
   "cell_type": "code",
   "execution_count": 35,
   "metadata": {
    "id": "hNPMma8QIcx5"
   },
   "outputs": [
    {
     "name": "stdout",
     "output_type": "stream",
     "text": [
      "Epoch 1/20\n",
      "1875/1875 [==============================] - 13s 4ms/step - loss: 0.5755 - accuracy: 0.8455 - val_loss: 0.2991 - val_accuracy: 0.9139\n",
      "Epoch 2/20\n",
      "1875/1875 [==============================] - 8s 4ms/step - loss: 0.2641 - accuracy: 0.9222 - val_loss: 0.2133 - val_accuracy: 0.9367\n",
      "Epoch 3/20\n",
      "1875/1875 [==============================] - 8s 4ms/step - loss: 0.1954 - accuracy: 0.9427 - val_loss: 0.1604 - val_accuracy: 0.9537\n",
      "Epoch 4/20\n",
      "1875/1875 [==============================] - 8s 4ms/step - loss: 0.1508 - accuracy: 0.9561 - val_loss: 0.1285 - val_accuracy: 0.9626\n",
      "Epoch 5/20\n",
      "1875/1875 [==============================] - 8s 4ms/step - loss: 0.1220 - accuracy: 0.9642 - val_loss: 0.1061 - val_accuracy: 0.9685\n",
      "Epoch 6/20\n",
      "1875/1875 [==============================] - 8s 4ms/step - loss: 0.1022 - accuracy: 0.9707 - val_loss: 0.0883 - val_accuracy: 0.9739\n",
      "Epoch 7/20\n",
      "1875/1875 [==============================] - 7s 4ms/step - loss: 0.0881 - accuracy: 0.9750 - val_loss: 0.0782 - val_accuracy: 0.9773\n",
      "Epoch 8/20\n",
      "1875/1875 [==============================] - 7s 4ms/step - loss: 0.0775 - accuracy: 0.9777 - val_loss: 0.0715 - val_accuracy: 0.9783\n",
      "Epoch 9/20\n",
      "1875/1875 [==============================] - 8s 4ms/step - loss: 0.0696 - accuracy: 0.9801 - val_loss: 0.0664 - val_accuracy: 0.9797\n",
      "Epoch 10/20\n",
      "1875/1875 [==============================] - 8s 4ms/step - loss: 0.0635 - accuracy: 0.9817 - val_loss: 0.0575 - val_accuracy: 0.9815\n",
      "Epoch 11/20\n",
      "1875/1875 [==============================] - 8s 4ms/step - loss: 0.0585 - accuracy: 0.9831 - val_loss: 0.0558 - val_accuracy: 0.9823\n",
      "Epoch 12/20\n",
      "1875/1875 [==============================] - 7s 4ms/step - loss: 0.0543 - accuracy: 0.9843 - val_loss: 0.0590 - val_accuracy: 0.9811\n",
      "Epoch 13/20\n",
      "1875/1875 [==============================] - 8s 4ms/step - loss: 0.0508 - accuracy: 0.9855 - val_loss: 0.0512 - val_accuracy: 0.9835\n",
      "Epoch 14/20\n",
      "1875/1875 [==============================] - 8s 4ms/step - loss: 0.0476 - accuracy: 0.9862 - val_loss: 0.0482 - val_accuracy: 0.9835\n",
      "Epoch 15/20\n",
      "1875/1875 [==============================] - 8s 4ms/step - loss: 0.0448 - accuracy: 0.9872 - val_loss: 0.0464 - val_accuracy: 0.9857\n",
      "Epoch 16/20\n",
      "1875/1875 [==============================] - 8s 4ms/step - loss: 0.0420 - accuracy: 0.9882 - val_loss: 0.0467 - val_accuracy: 0.9844\n",
      "Epoch 17/20\n",
      "1875/1875 [==============================] - 8s 4ms/step - loss: 0.0401 - accuracy: 0.9883 - val_loss: 0.0436 - val_accuracy: 0.9854\n",
      "Epoch 18/20\n",
      "1875/1875 [==============================] - 8s 4ms/step - loss: 0.0380 - accuracy: 0.9893 - val_loss: 0.0421 - val_accuracy: 0.9860\n",
      "Epoch 19/20\n",
      "1875/1875 [==============================] - 8s 4ms/step - loss: 0.0361 - accuracy: 0.9897 - val_loss: 0.0408 - val_accuracy: 0.9867\n",
      "Epoch 20/20\n",
      "1875/1875 [==============================] - 8s 4ms/step - loss: 0.0345 - accuracy: 0.9902 - val_loss: 0.0398 - val_accuracy: 0.9864\n",
      "313/313 [==============================] - 1s 3ms/step - loss: 0.0398 - accuracy: 0.9864\n"
     ]
    },
    {
     "data": {
      "text/plain": [
       "[0.039781734347343445, 0.9864000082015991]"
      ]
     },
     "execution_count": 35,
     "metadata": {},
     "output_type": "execute_result"
    }
   ],
   "source": [
    "model_digits.compile(\n",
    "    optimizer = 'SGD',\n",
    "    loss = 'sparse_categorical_crossentropy',\n",
    "    metrics = ['accuracy'])\n",
    "\n",
    "# fit \n",
    "history_digits = model_digits.fit(x_train, y_train, validation_data=(x_test, y_test), batch_size=32, epochs=20)\n",
    "model_digits.evaluate(x_test, y_test)"
   ]
  },
  {
   "cell_type": "markdown",
   "metadata": {
    "id": "zPkhNL2ba1j7"
   },
   "source": [
    "### Model accuracy, model loss, and save model for LeNet5 for digit classification"
   ]
  },
  {
   "cell_type": "code",
   "execution_count": 36,
   "metadata": {
    "id": "R61_9Q3YKFL5"
   },
   "outputs": [
    {
     "data": {
      "image/png": "[encoded data removed]",
      "text/plain": [
       "<Figure size 432x288 with 1 Axes>"
      ]
     },
     "metadata": {
      "needs_background": "light"
     },
     "output_type": "display_data"
    }
   ],
   "source": [
    "plot_accuracy(history_digits)"
   ]
  },
  {
   "cell_type": "code",
   "execution_count": 37,
   "metadata": {
    "id": "hCMGQ0ZCJC7U"
   },
   "outputs": [
    {
     "data": {
      "image/png": "[encoded data removed]",
      "text/plain": [
       "<Figure size 432x288 with 1 Axes>"
      ]
     },
     "metadata": {
      "needs_background": "light"
     },
     "output_type": "display_data"
    }
   ],
   "source": [
    "plot_loss(history_digits)"
   ]
  },
  {
   "cell_type": "code",
   "execution_count": 38,
   "metadata": {
    "id": "fLfM5JPcKeQN"
   },
   "outputs": [
    {
     "data": {
      "image/png": "[encoded data removed]",
      "text/plain": [
       "<Figure size 576x360 with 1 Axes>"
      ]
     },
     "metadata": {
      "needs_background": "light"
     },
     "output_type": "display_data"
    }
   ],
   "source": [
    "pd.DataFrame(history_digits.history).plot(figsize=(8,5))\n",
    "plt.show()"
   ]
  },
  {
   "cell_type": "code",
   "execution_count": 39,
   "metadata": {
    "id": "oSUVA9Fhbz7O"
   },
   "outputs": [],
   "source": [
    "# To save the trained model\n",
    "model_digits.save('model_digits.h5')\n",
    "\n",
    "# To save the trained weights\n",
    "model_digits.save_weights('model_digits_weights.h5')"
   ]
  },
  {
   "cell_type": "markdown",
   "metadata": {
    "id": "Fez4ht7dIV6J"
   },
   "source": [
    "## Instantiate and Train LeNet5 for Alphabet classification"
   ]
  },
  {
   "cell_type": "code",
   "execution_count": 40,
   "metadata": {
    "colab": {
     "base_uri": "https://localhost:8080/"
    },
    "id": "tC61vr2YXK6n",
    "outputId": "d8b92f32-d15c-42c1-d4da-6588bf64be81",
    "scrolled": false
   },
   "outputs": [
    {
     "name": "stdout",
     "output_type": "stream",
     "text": [
      "Model: \"LeNet_for_Alphabets\"\n",
      "_________________________________________________________________\n",
      " Layer (type)                Output Shape              Param #   \n",
      "=================================================================\n",
      " InputLayer (InputLayer)     [(None, 28, 28, 1)]       0         \n",
      "                                                                 \n",
      " resize_input (Resizing)     (None, 32, 32, 1)         0         \n",
      "                                                                 \n",
      " c1 (Conv2D)                 (None, 28, 28, 6)         156       \n",
      "                                                                 \n",
      " s2 (AveragePooling2D)       (None, 14, 14, 6)         0         \n",
      "                                                                 \n",
      " c3 (Conv2D)                 (None, 10, 10, 16)        2416      \n",
      "                                                                 \n",
      " s4 (AveragePooling2D)       (None, 5, 5, 16)          0         \n",
      "                                                                 \n",
      " c5 (Conv2D)                 (None, 1, 1, 120)         48120     \n",
      "                                                                 \n",
      " flat (Flatten)              (None, 120)               0         \n",
      "                                                                 \n",
      " f6 (Dense)                  (None, 84)                10164     \n",
      "                                                                 \n",
      " output (Dense)              (None, 27)                2295      \n",
      "                                                                 \n",
      "=================================================================\n",
      "Total params: 63,151\n",
      "Trainable params: 63,151\n",
      "Non-trainable params: 0\n",
      "_________________________________________________________________\n"
     ]
    }
   ],
   "source": [
    "# instantiate model object\n",
    "model_letters = LeNetFive(27, 'LeNet_for_Alphabets').leNetModel()\n",
    "\n",
    "# print summary\n",
    "model_letters.summary()"
   ]
  },
  {
   "cell_type": "code",
   "execution_count": 41,
   "metadata": {
    "colab": {
     "base_uri": "https://localhost:8080/",
     "height": 1000
    },
    "id": "U_vpgRclXK9U",
    "outputId": "19d7281d-8ec5-4492-d160-63aa51c67d20"
   },
   "outputs": [
    {
     "name": "stdout",
     "output_type": "stream",
     "text": [
      "('You must install pydot (`pip install pydot`) and install graphviz (see instructions at https://graphviz.gitlab.io/download/) ', 'for plot_model/model_to_dot to work.')\n"
     ]
    }
   ],
   "source": [
    "tf.keras.utils.plot_model(model_letters,show_shapes=True)"
   ]
  },
  {
   "cell_type": "code",
   "execution_count": 42,
   "metadata": {
    "colab": {
     "base_uri": "https://localhost:8080/"
    },
    "id": "NX04zwiHXLBL",
    "outputId": "211a2431-2c60-4772-d18e-f94e7a09b2dd"
   },
   "outputs": [
    {
     "name": "stdout",
     "output_type": "stream",
     "text": [
      "Epoch 1/20\n",
      "3900/3900 [==============================] - 16s 4ms/step - loss: 1.3019 - accuracy: 0.6460 - val_loss: 0.7826 - val_accuracy: 0.7775\n",
      "Epoch 2/20\n",
      "3900/3900 [==============================] - 16s 4ms/step - loss: 0.6215 - accuracy: 0.8205 - val_loss: 0.5204 - val_accuracy: 0.8494\n",
      "Epoch 3/20\n",
      "3900/3900 [==============================] - 15s 4ms/step - loss: 0.4512 - accuracy: 0.8655 - val_loss: 0.4114 - val_accuracy: 0.8782\n",
      "Epoch 4/20\n",
      "3900/3900 [==============================] - 15s 4ms/step - loss: 0.3725 - accuracy: 0.8863 - val_loss: 0.3593 - val_accuracy: 0.8918\n",
      "Epoch 5/20\n",
      "3900/3900 [==============================] - 16s 4ms/step - loss: 0.3273 - accuracy: 0.8981 - val_loss: 0.3291 - val_accuracy: 0.8993\n",
      "Epoch 6/20\n",
      "3900/3900 [==============================] - 15s 4ms/step - loss: 0.2977 - accuracy: 0.9067 - val_loss: 0.3064 - val_accuracy: 0.9045\n",
      "Epoch 7/20\n",
      "3900/3900 [==============================] - 17s 4ms/step - loss: 0.2757 - accuracy: 0.9124 - val_loss: 0.2932 - val_accuracy: 0.9076\n",
      "Epoch 8/20\n",
      "3900/3900 [==============================] - 15s 4ms/step - loss: 0.2592 - accuracy: 0.9174 - val_loss: 0.2791 - val_accuracy: 0.9121\n",
      "Epoch 9/20\n",
      "3900/3900 [==============================] - 15s 4ms/step - loss: 0.2463 - accuracy: 0.9208 - val_loss: 0.2667 - val_accuracy: 0.9156\n",
      "Epoch 10/20\n",
      "3900/3900 [==============================] - 16s 4ms/step - loss: 0.2350 - accuracy: 0.9231 - val_loss: 0.2618 - val_accuracy: 0.9175\n",
      "Epoch 11/20\n",
      "3900/3900 [==============================] - 16s 4ms/step - loss: 0.2257 - accuracy: 0.9261 - val_loss: 0.2539 - val_accuracy: 0.9202\n",
      "Epoch 12/20\n",
      "3900/3900 [==============================] - 15s 4ms/step - loss: 0.2175 - accuracy: 0.9289 - val_loss: 0.2481 - val_accuracy: 0.9218\n",
      "Epoch 13/20\n",
      "3900/3900 [==============================] - 15s 4ms/step - loss: 0.2100 - accuracy: 0.9306 - val_loss: 0.2458 - val_accuracy: 0.9200\n",
      "Epoch 14/20\n",
      "3900/3900 [==============================] - 15s 4ms/step - loss: 0.2035 - accuracy: 0.9325 - val_loss: 0.2397 - val_accuracy: 0.9207\n",
      "Epoch 15/20\n",
      "3900/3900 [==============================] - 15s 4ms/step - loss: 0.1976 - accuracy: 0.9341 - val_loss: 0.2394 - val_accuracy: 0.9220\n",
      "Epoch 16/20\n",
      "3900/3900 [==============================] - 15s 4ms/step - loss: 0.1930 - accuracy: 0.9359 - val_loss: 0.2336 - val_accuracy: 0.9255\n",
      "Epoch 17/20\n",
      "3900/3900 [==============================] - 15s 4ms/step - loss: 0.1880 - accuracy: 0.9370 - val_loss: 0.2309 - val_accuracy: 0.9251\n",
      "Epoch 18/20\n",
      "3900/3900 [==============================] - 15s 4ms/step - loss: 0.1832 - accuracy: 0.9389 - val_loss: 0.2276 - val_accuracy: 0.9261\n",
      "Epoch 19/20\n",
      "3900/3900 [==============================] - 15s 4ms/step - loss: 0.1790 - accuracy: 0.9402 - val_loss: 0.2230 - val_accuracy: 0.9282\n",
      "Epoch 20/20\n",
      "3900/3900 [==============================] - 15s 4ms/step - loss: 0.1749 - accuracy: 0.9412 - val_loss: 0.2236 - val_accuracy: 0.9271\n",
      "650/650 [==============================] - 1s 2ms/step - loss: 0.2236 - accuracy: 0.9271\n"
     ]
    },
    {
     "data": {
      "text/plain": [
       "[0.22364118695259094, 0.9270672798156738]"
      ]
     },
     "execution_count": 42,
     "metadata": {},
     "output_type": "execute_result"
    }
   ],
   "source": [
    "model_letters.compile(\n",
    "    optimizer = 'SGD',\n",
    "    loss = 'sparse_categorical_crossentropy',\n",
    "    metrics = ['accuracy'])\n",
    "# fit \n",
    "history_letters = model_letters.fit(train_x_letters, train_y_letters, validation_data=(test_x_letters, test_y_letters), batch_size=32, epochs=20)\n",
    "model_letters.evaluate(test_x_letters, test_y_letters)"
   ]
  },
  {
   "cell_type": "markdown",
   "metadata": {
    "id": "Mqip9r0IbKqM"
   },
   "source": [
    "### Model accuracy, model loss, and save model for LeNet5 for alphabet classification"
   ]
  },
  {
   "cell_type": "code",
   "execution_count": 43,
   "metadata": {
    "id": "Yk5Xy9tcXLDX"
   },
   "outputs": [
    {
     "data": {
      "image/png": "[encoded data removed]",
      "text/plain": [
       "<Figure size 432x288 with 1 Axes>"
      ]
     },
     "metadata": {
      "needs_background": "light"
     },
     "output_type": "display_data"
    }
   ],
   "source": [
    "plot_accuracy(history_letters)"
   ]
  },
  {
   "cell_type": "code",
   "execution_count": 44,
   "metadata": {
    "id": "jm3AL1ZhXLGj"
   },
   "outputs": [
    {
     "data": {
      "image/png": "[encoded data removed]",
      "text/plain": [
       "<Figure size 432x288 with 1 Axes>"
      ]
     },
     "metadata": {
      "needs_background": "light"
     },
     "output_type": "display_data"
    }
   ],
   "source": [
    "plot_loss(history_letters)"
   ]
  },
  {
   "cell_type": "code",
   "execution_count": 45,
   "metadata": {
    "id": "j1hpYC_hXLJj"
   },
   "outputs": [
    {
     "data": {
      "image/png": "[encoded data removed]",
      "text/plain": [
       "<Figure size 576x360 with 1 Axes>"
      ]
     },
     "metadata": {
      "needs_background": "light"
     },
     "output_type": "display_data"
    }
   ],
   "source": [
    "pd.DataFrame(history_letters.history).plot(figsize=(8,5))\n",
    "plt.show()"
   ]
  },
  {
   "cell_type": "code",
   "execution_count": 46,
   "metadata": {
    "id": "amIBhKLXZOzn"
   },
   "outputs": [],
   "source": [
    "# To save the trained model\n",
    "model_letters.save('letters_model.h5')\n",
    "\n",
    "# To save the trained weights\n",
    "model_letters.save_weights('letters_model_weights.h5')"
   ]
  },
  {
   "cell_type": "markdown",
   "metadata": {
    "id": "mx466CPqg4X-"
   },
   "source": [
    "## Instantiate and Train LeNet5 for Baybayin character classification"
   ]
  },
  {
   "cell_type": "code",
   "execution_count": 47,
   "metadata": {
    "colab": {
     "base_uri": "https://localhost:8080/"
    },
    "id": "a6YC4sxzg4X_",
    "outputId": "e0ffa9c6-8b0c-4af3-8ebc-cc90e930e612",
    "scrolled": false
   },
   "outputs": [
    {
     "name": "stdout",
     "output_type": "stream",
     "text": [
      "Model: \"LeNet_for_Baybayin\"\n",
      "_________________________________________________________________\n",
      " Layer (type)                Output Shape              Param #   \n",
      "=================================================================\n",
      " InputLayer (InputLayer)     [(None, 28, 28, 1)]       0         \n",
      "                                                                 \n",
      " resize_input (Resizing)     (None, 32, 32, 1)         0         \n",
      "                                                                 \n",
      " c1 (Conv2D)                 (None, 28, 28, 6)         156       \n",
      "                                                                 \n",
      " s2 (AveragePooling2D)       (None, 14, 14, 6)         0         \n",
      "                                                                 \n",
      " c3 (Conv2D)                 (None, 10, 10, 16)        2416      \n",
      "                                                                 \n",
      " s4 (AveragePooling2D)       (None, 5, 5, 16)          0         \n",
      "                                                                 \n",
      " c5 (Conv2D)                 (None, 1, 1, 120)         48120     \n",
      "                                                                 \n",
      " flat (Flatten)              (None, 120)               0         \n",
      "                                                                 \n",
      " f6 (Dense)                  (None, 84)                10164     \n",
      "                                                                 \n",
      " output (Dense)              (None, 17)                1445      \n",
      "                                                                 \n",
      "=================================================================\n",
      "Total params: 62,301\n",
      "Trainable params: 62,301\n",
      "Non-trainable params: 0\n",
      "_________________________________________________________________\n"
     ]
    }
   ],
   "source": [
    "# instantiate model object\n",
    "model_baybayin = LeNetFive(17, 'LeNet_for_Baybayin').leNetModel()\n",
    "\n",
    "# print summary\n",
    "model_baybayin.summary()"
   ]
  },
  {
   "cell_type": "code",
   "execution_count": 48,
   "metadata": {
    "colab": {
     "base_uri": "https://localhost:8080/",
     "height": 1000
    },
    "id": "k3vbzX__g4X_",
    "outputId": "f289e00c-b244-4cf4-936b-d608b824b5ce"
   },
   "outputs": [
    {
     "name": "stdout",
     "output_type": "stream",
     "text": [
      "('You must install pydot (`pip install pydot`) and install graphviz (see instructions at https://graphviz.gitlab.io/download/) ', 'for plot_model/model_to_dot to work.')\n"
     ]
    }
   ],
   "source": [
    "tf.keras.utils.plot_model(model_baybayin,show_shapes=True)"
   ]
  },
  {
   "cell_type": "code",
   "execution_count": 49,
   "metadata": {
    "colab": {
     "base_uri": "https://localhost:8080/"
    },
    "id": "TUZnjbNLg4X_",
    "outputId": "c2f2d9a6-e1fc-46ea-fa7b-69a5ed66c801"
   },
   "outputs": [
    {
     "name": "stdout",
     "output_type": "stream",
     "text": [
      "Epoch 1/20\n",
      "957/957 [==============================] - 5s 5ms/step - loss: 1.2831 - accuracy: 0.7013 - val_loss: 0.5587 - val_accuracy: 0.8659\n",
      "Epoch 2/20\n",
      "957/957 [==============================] - 4s 4ms/step - loss: 0.4775 - accuracy: 0.8795 - val_loss: 0.3801 - val_accuracy: 0.9041\n",
      "Epoch 3/20\n",
      "957/957 [==============================] - 4s 4ms/step - loss: 0.3609 - accuracy: 0.9054 - val_loss: 0.3054 - val_accuracy: 0.9217\n",
      "Epoch 4/20\n",
      "957/957 [==============================] - 4s 4ms/step - loss: 0.2971 - accuracy: 0.9221 - val_loss: 0.2548 - val_accuracy: 0.9352\n",
      "Epoch 5/20\n",
      "957/957 [==============================] - 4s 4ms/step - loss: 0.2543 - accuracy: 0.9324 - val_loss: 0.2221 - val_accuracy: 0.9465\n",
      "Epoch 6/20\n",
      "957/957 [==============================] - 4s 4ms/step - loss: 0.2218 - accuracy: 0.9415 - val_loss: 0.1970 - val_accuracy: 0.9507\n",
      "Epoch 7/20\n",
      "957/957 [==============================] - 4s 4ms/step - loss: 0.1962 - accuracy: 0.9477 - val_loss: 0.1784 - val_accuracy: 0.9572\n",
      "Epoch 8/20\n",
      "957/957 [==============================] - 4s 4ms/step - loss: 0.1760 - accuracy: 0.9545 - val_loss: 0.1612 - val_accuracy: 0.9604\n",
      "Epoch 9/20\n",
      "957/957 [==============================] - 4s 4ms/step - loss: 0.1589 - accuracy: 0.9585 - val_loss: 0.1486 - val_accuracy: 0.9633\n",
      "Epoch 10/20\n",
      "957/957 [==============================] - 4s 4ms/step - loss: 0.1445 - accuracy: 0.9637 - val_loss: 0.1377 - val_accuracy: 0.9676\n",
      "Epoch 11/20\n",
      "957/957 [==============================] - 4s 4ms/step - loss: 0.1326 - accuracy: 0.9668 - val_loss: 0.1295 - val_accuracy: 0.9683\n",
      "Epoch 12/20\n",
      "957/957 [==============================] - 4s 4ms/step - loss: 0.1223 - accuracy: 0.9697 - val_loss: 0.1251 - val_accuracy: 0.9693\n",
      "Epoch 13/20\n",
      "957/957 [==============================] - 4s 4ms/step - loss: 0.1133 - accuracy: 0.9724 - val_loss: 0.1156 - val_accuracy: 0.9711\n",
      "Epoch 14/20\n",
      "957/957 [==============================] - 4s 4ms/step - loss: 0.1052 - accuracy: 0.9753 - val_loss: 0.1112 - val_accuracy: 0.9726\n",
      "Epoch 15/20\n",
      "957/957 [==============================] - 4s 4ms/step - loss: 0.0984 - accuracy: 0.9775 - val_loss: 0.1058 - val_accuracy: 0.9739\n",
      "Epoch 16/20\n",
      "957/957 [==============================] - 4s 4ms/step - loss: 0.0922 - accuracy: 0.9788 - val_loss: 0.1013 - val_accuracy: 0.9741\n",
      "Epoch 17/20\n",
      "957/957 [==============================] - 4s 4ms/step - loss: 0.0868 - accuracy: 0.9801 - val_loss: 0.0969 - val_accuracy: 0.9763\n",
      "Epoch 18/20\n",
      "957/957 [==============================] - 5s 5ms/step - loss: 0.0816 - accuracy: 0.9816 - val_loss: 0.0945 - val_accuracy: 0.9767\n",
      "Epoch 19/20\n",
      "957/957 [==============================] - 4s 4ms/step - loss: 0.0772 - accuracy: 0.9829 - val_loss: 0.0913 - val_accuracy: 0.9759\n",
      "Epoch 20/20\n",
      "957/957 [==============================] - 4s 4ms/step - loss: 0.0734 - accuracy: 0.9839 - val_loss: 0.0886 - val_accuracy: 0.9785\n",
      "169/169 [==============================] - 0s 2ms/step - loss: 0.0886 - accuracy: 0.9785\n"
     ]
    },
    {
     "data": {
      "text/plain": [
       "[0.08863815665245056, 0.978518545627594]"
      ]
     },
     "execution_count": 49,
     "metadata": {},
     "output_type": "execute_result"
    }
   ],
   "source": [
    "model_baybayin.compile(\n",
    "    optimizer = 'SGD',\n",
    "    loss = 'sparse_categorical_crossentropy',\n",
    "    metrics = ['accuracy'])\n",
    "# fit \n",
    "history_baybayin = model_baybayin.fit(train_x_baybayin, train_y_baybayin, validation_data=(test_x_baybayin, test_y_baybayin), batch_size=32, epochs=20)\n",
    "model_baybayin.evaluate(test_x_baybayin, test_y_baybayin)"
   ]
  },
  {
   "cell_type": "markdown",
   "metadata": {
    "id": "DQPrxNsdg4X_"
   },
   "source": [
    "### Model accuracy, model loss, and save model for LeNet5 for baybayin character classification"
   ]
  },
  {
   "cell_type": "code",
   "execution_count": 50,
   "metadata": {
    "id": "wWyLj29Qg4X_"
   },
   "outputs": [
    {
     "data": {
      "image/png": "[encoded data removed]",
      "text/plain": [
       "<Figure size 432x288 with 1 Axes>"
      ]
     },
     "metadata": {
      "needs_background": "light"
     },
     "output_type": "display_data"
    }
   ],
   "source": [
    "plot_accuracy(history_baybayin)"
   ]
  },
  {
   "cell_type": "code",
   "execution_count": 51,
   "metadata": {
    "id": "ueoN7ZIYg4X_"
   },
   "outputs": [
    {
     "data": {
      "image/png": "[encoded data removed]",
      "text/plain": [
       "<Figure size 432x288 with 1 Axes>"
      ]
     },
     "metadata": {
      "needs_background": "light"
     },
     "output_type": "display_data"
    }
   ],
   "source": [
    "plot_loss(history_baybayin)"
   ]
  },
  {
   "cell_type": "code",
   "execution_count": 52,
   "metadata": {
    "id": "xzpOZ-t4g4X_"
   },
   "outputs": [
    {
     "data": {
      "image/png": "[encoded data removed]",
      "text/plain": [
       "<Figure size 576x360 with 1 Axes>"
      ]
     },
     "metadata": {
      "needs_background": "light"
     },
     "output_type": "display_data"
    }
   ],
   "source": [
    "pd.DataFrame(history_baybayin.history).plot(figsize=(8,5))\n",
    "plt.show()"
   ]
  },
  {
   "cell_type": "code",
   "execution_count": 53,
   "metadata": {
    "id": "xcy_LmrNg4X_"
   },
   "outputs": [],
   "source": [
    "# To save the trained model\n",
    "model_baybayin.save('baybayin_model.h5')\n",
    "\n",
    "# To save the trained weights\n",
    "model_baybayin.save_weights('baybayin_model_weights.h5')"
   ]
  },
  {
   "cell_type": "markdown",
   "metadata": {
    "id": "FzNumH70bVCN"
   },
   "source": [
    "# **Loading trained models**"
   ]
  },
  {
   "cell_type": "code",
   "execution_count": 31,
   "metadata": {
    "id": "Z1RyZMHkhTBM"
   },
   "outputs": [],
   "source": [
    "model_dir = 'LeNet5_implemetation'"
   ]
  },
  {
   "cell_type": "markdown",
   "metadata": {
    "id": "x5QcGP41bn8s"
   },
   "source": [
    "## LeNet5 for digits classification"
   ]
  },
  {
   "cell_type": "code",
   "execution_count": 32,
   "metadata": {
    "colab": {
     "base_uri": "https://localhost:8080/"
    },
    "id": "Rix-lHqAcIm9",
    "outputId": "e1532005-ea8d-4612-d70e-c89fb70ba6d6"
   },
   "outputs": [
    {
     "name": "stdout",
     "output_type": "stream",
     "text": [
      "Model: \"LeNet_for_digits\"\n",
      "_________________________________________________________________\n",
      " Layer (type)                Output Shape              Param #   \n",
      "=================================================================\n",
      " InputLayer (InputLayer)     [(None, 28, 28, 1)]       0         \n",
      "                                                                 \n",
      " resize_input (Resizing)     (None, 32, 32, 1)         0         \n",
      "                                                                 \n",
      " c1 (Conv2D)                 (None, 28, 28, 6)         156       \n",
      "                                                                 \n",
      " s2 (AveragePooling2D)       (None, 14, 14, 6)         0         \n",
      "                                                                 \n",
      " c3 (Conv2D)                 (None, 10, 10, 16)        2416      \n",
      "                                                                 \n",
      " s4 (AveragePooling2D)       (None, 5, 5, 16)          0         \n",
      "                                                                 \n",
      " c5 (Conv2D)                 (None, 1, 1, 120)         48120     \n",
      "                                                                 \n",
      " flat (Flatten)              (None, 120)               0         \n",
      "                                                                 \n",
      " f6 (Dense)                  (None, 84)                10164     \n",
      "                                                                 \n",
      " output (Dense)              (None, 10)                850       \n",
      "                                                                 \n",
      "=================================================================\n",
      "Total params: 61,706\n",
      "Trainable params: 61,706\n",
      "Non-trainable params: 0\n",
      "_________________________________________________________________\n"
     ]
    }
   ],
   "source": [
    "# To load the trained model\n",
    "new_model2 = tf.keras.models.load_model(os.path.join(model_dir, 'model_digits.h5')) \n",
    "\n",
    "# To load the trained weights to the model used\n",
    "# digits_model.load_weights('model_digits_weights.h5')\n",
    "\n",
    "new_model2.summary()"
   ]
  },
  {
   "cell_type": "code",
   "execution_count": 33,
   "metadata": {
    "colab": {
     "base_uri": "https://localhost:8080/"
    },
    "id": "e2kZgJyjaZ6l",
    "outputId": "02b9091c-6c63-4814-cbb1-8f170fd42472"
   },
   "outputs": [
    {
     "name": "stdout",
     "output_type": "stream",
     "text": [
      "313/313 [==============================] - 3s 3ms/step - loss: 0.0398 - accuracy: 0.9864\n"
     ]
    },
    {
     "data": {
      "text/plain": [
       "[0.039781734347343445, 0.9864000082015991]"
      ]
     },
     "execution_count": 33,
     "metadata": {},
     "output_type": "execute_result"
    }
   ],
   "source": [
    "new_model2.evaluate(x_test, y_test)"
   ]
  },
  {
   "cell_type": "markdown",
   "metadata": {
    "id": "16mxPpdec36B"
   },
   "source": [
    "### Digit Prediction"
   ]
  },
  {
   "cell_type": "code",
   "execution_count": 34,
   "metadata": {
    "colab": {
     "base_uri": "https://localhost:8080/",
     "height": 333
    },
    "id": "_agKtwziaq6r",
    "outputId": "df766549-d3b8-4451-e6cb-86af60fe952b"
   },
   "outputs": [
    {
     "data": {
      "image/png": "[encoded data removed]",
      "text/plain": [
       "<Figure size 432x288 with 2 Axes>"
      ]
     },
     "metadata": {
      "needs_background": "light"
     },
     "output_type": "display_data"
    },
    {
     "name": "stdout",
     "output_type": "stream",
     "text": [
      "\n",
      "\n",
      "The predictied digit is 2 with a 0.9999211 probability\n"
     ]
    }
   ],
   "source": [
    "# Show digit image with true label in the title that returns a random image from the show_data function\n",
    "test_img = show_data(x_test, y_test)\n",
    "test_img = np.expand_dims(test_img, axis=0)\n",
    "\n",
    "# Show predicted class of the random image\n",
    "pred_arr = new_model2.predict(test_img)\n",
    "print('\\n\\nThe predictied digit is', pred_arr.argmax(), 'with a', pred_arr.max(), 'probability')"
   ]
  },
  {
   "cell_type": "markdown",
   "metadata": {
    "id": "JR1F_szvbwC7"
   },
   "source": [
    "## LeNet5 for alphabet classification"
   ]
  },
  {
   "cell_type": "code",
   "execution_count": 35,
   "metadata": {
    "colab": {
     "base_uri": "https://localhost:8080/"
    },
    "id": "13TJkSBtZOzn",
    "outputId": "30e221ff-cabe-448e-df8d-6d25579a8fc9"
   },
   "outputs": [
    {
     "name": "stdout",
     "output_type": "stream",
     "text": [
      "Model: \"LeNet_for_Alphabets\"\n",
      "_________________________________________________________________\n",
      " Layer (type)                Output Shape              Param #   \n",
      "=================================================================\n",
      " InputLayer (InputLayer)     [(None, 28, 28, 1)]       0         \n",
      "                                                                 \n",
      " resize_input (Resizing)     (None, 32, 32, 1)         0         \n",
      "                                                                 \n",
      " c1 (Conv2D)                 (None, 28, 28, 6)         156       \n",
      "                                                                 \n",
      " s2 (AveragePooling2D)       (None, 14, 14, 6)         0         \n",
      "                                                                 \n",
      " c3 (Conv2D)                 (None, 10, 10, 16)        2416      \n",
      "                                                                 \n",
      " s4 (AveragePooling2D)       (None, 5, 5, 16)          0         \n",
      "                                                                 \n",
      " c5 (Conv2D)                 (None, 1, 1, 120)         48120     \n",
      "                                                                 \n",
      " flat (Flatten)              (None, 120)               0         \n",
      "                                                                 \n",
      " f6 (Dense)                  (None, 84)                10164     \n",
      "                                                                 \n",
      " output (Dense)              (None, 27)                2295      \n",
      "                                                                 \n",
      "=================================================================\n",
      "Total params: 63,151\n",
      "Trainable params: 63,151\n",
      "Non-trainable params: 0\n",
      "_________________________________________________________________\n"
     ]
    }
   ],
   "source": [
    "# To load the trained model\n",
    "new_model = tf.keras.models.load_model(os.path.join(model_dir, 'letters_model.h5'))\n",
    "\n",
    "# To load the trained weights to the model used\n",
    "# letters_model.load_weights('letters_model_weights.h5')\n",
    "\n",
    "new_model.summary()"
   ]
  },
  {
   "cell_type": "code",
   "execution_count": 36,
   "metadata": {
    "colab": {
     "base_uri": "https://localhost:8080/"
    },
    "id": "UO1RAVWeaEQD",
    "outputId": "352b546c-d9c8-4e6b-ebb3-f1d1c044ab60"
   },
   "outputs": [
    {
     "name": "stdout",
     "output_type": "stream",
     "text": [
      "650/650 [==============================] - 2s 2ms/step - loss: 0.2236 - accuracy: 0.9271\n"
     ]
    },
    {
     "data": {
      "text/plain": [
       "[0.22364118695259094, 0.9270672798156738]"
      ]
     },
     "execution_count": 36,
     "metadata": {},
     "output_type": "execute_result"
    }
   ],
   "source": [
    "new_model.evaluate(test_x_letters, test_y_letters)"
   ]
  },
  {
   "cell_type": "markdown",
   "metadata": {
    "id": "ex3jf202eO6p"
   },
   "source": [
    "### Alphabet Prediction"
   ]
  },
  {
   "cell_type": "code",
   "execution_count": 37,
   "metadata": {
    "colab": {
     "base_uri": "https://localhost:8080/",
     "height": 333
    },
    "id": "mYG15BsqeRkg",
    "outputId": "61736566-c1b0-4535-d3c5-63bfc2fb0bb3"
   },
   "outputs": [
    {
     "data": {
      "image/png": "[encoded data removed]",
      "text/plain": [
       "<Figure size 432x288 with 2 Axes>"
      ]
     },
     "metadata": {
      "needs_background": "light"
     },
     "output_type": "display_data"
    },
    {
     "name": "stdout",
     "output_type": "stream",
     "text": [
      "\n",
      "\n",
      "The predictied letter is q with a 0.9688817 probability\n"
     ]
    }
   ],
   "source": [
    "import string\n",
    "\n",
    "# Show alphabet image with true label in the title that returns a random image from the show_data function\n",
    "test_img = show_data(test_x_letters, test_y_letters, False)\n",
    "test_img = np.expand_dims(test_img, axis=0)\n",
    "\n",
    "# Show predicted class of the random image\n",
    "pred_arr = new_model.predict(test_img)\n",
    "print('\\n\\nThe predictied letter is', string.ascii_lowercase[pred_arr.argmax()-1], 'with a', pred_arr.max(), 'probability')"
   ]
  },
  {
   "cell_type": "markdown",
   "metadata": {
    "id": "BBRALzAeiFGp"
   },
   "source": [
    "## LeNet5 for baybayin character classification"
   ]
  },
  {
   "cell_type": "code",
   "execution_count": 38,
   "metadata": {
    "colab": {
     "base_uri": "https://localhost:8080/"
    },
    "id": "aOM_Y2fEiFGu",
    "outputId": "30e221ff-cabe-448e-df8d-6d25579a8fc9"
   },
   "outputs": [
    {
     "name": "stdout",
     "output_type": "stream",
     "text": [
      "Model: \"LeNet_for_Baybayin\"\n",
      "_________________________________________________________________\n",
      " Layer (type)                Output Shape              Param #   \n",
      "=================================================================\n",
      " InputLayer (InputLayer)     [(None, 28, 28, 1)]       0         \n",
      "                                                                 \n",
      " resize_input (Resizing)     (None, 32, 32, 1)         0         \n",
      "                                                                 \n",
      " c1 (Conv2D)                 (None, 28, 28, 6)         156       \n",
      "                                                                 \n",
      " s2 (AveragePooling2D)       (None, 14, 14, 6)         0         \n",
      "                                                                 \n",
      " c3 (Conv2D)                 (None, 10, 10, 16)        2416      \n",
      "                                                                 \n",
      " s4 (AveragePooling2D)       (None, 5, 5, 16)          0         \n",
      "                                                                 \n",
      " c5 (Conv2D)                 (None, 1, 1, 120)         48120     \n",
      "                                                                 \n",
      " flat (Flatten)              (None, 120)               0         \n",
      "                                                                 \n",
      " f6 (Dense)                  (None, 84)                10164     \n",
      "                                                                 \n",
      " output (Dense)              (None, 17)                1445      \n",
      "                                                                 \n",
      "=================================================================\n",
      "Total params: 62,301\n",
      "Trainable params: 62,301\n",
      "Non-trainable params: 0\n",
      "_________________________________________________________________\n"
     ]
    }
   ],
   "source": [
    "# To load the trained model\n",
    "new_model3 = tf.keras.models.load_model(os.path.join(model_dir, 'baybayin_model.h5'))\n",
    "\n",
    "# To load the trained weights to the model used\n",
    "# letters_model.load_weights('baybayin_model_weights.h5')\n",
    "\n",
    "new_model3.summary()"
   ]
  },
  {
   "cell_type": "code",
   "execution_count": 39,
   "metadata": {
    "colab": {
     "base_uri": "https://localhost:8080/"
    },
    "id": "Zux50uJNiFGv",
    "outputId": "352b546c-d9c8-4e6b-ebb3-f1d1c044ab60"
   },
   "outputs": [
    {
     "name": "stdout",
     "output_type": "stream",
     "text": [
      "169/169 [==============================] - 1s 3ms/step - loss: 0.0886 - accuracy: 0.9785\n"
     ]
    },
    {
     "data": {
      "text/plain": [
       "[0.08863815665245056, 0.978518545627594]"
      ]
     },
     "execution_count": 39,
     "metadata": {},
     "output_type": "execute_result"
    }
   ],
   "source": [
    "new_model3.evaluate(test_x_baybayin, test_y_baybayin)"
   ]
  },
  {
   "cell_type": "markdown",
   "metadata": {
    "id": "b5WYG-axiFGv"
   },
   "source": [
    "### Baybayin Character Prediction"
   ]
  },
  {
   "cell_type": "code",
   "execution_count": 40,
   "metadata": {
    "colab": {
     "base_uri": "https://localhost:8080/",
     "height": 333
    },
    "id": "kGdyzBOniFGv",
    "outputId": "61736566-c1b0-4535-d3c5-63bfc2fb0bb3"
   },
   "outputs": [
    {
     "data": {
      "image/png": "[encoded data removed]",
      "text/plain": [
       "<Figure size 432x288 with 2 Axes>"
      ]
     },
     "metadata": {
      "needs_background": "light"
     },
     "output_type": "display_data"
    },
    {
     "name": "stdout",
     "output_type": "stream",
     "text": [
      "\n",
      "\n",
      "The predictied baybayin character is ya with a 0.9711485 probability\n"
     ]
    }
   ],
   "source": [
    "import string\n",
    "baybayin_list = ['a', 'ba', 'dara', 'ei', 'ga', 'ha', 'ka', 'la', 'ma', 'na', 'nga', 'ou', 'pa', 'sa', 'ta', 'wa', 'ya']\n",
    "\n",
    "# Show baybayin character image with true label in the title that returns a random image from the show_data function\n",
    "test_img = show_data2(test_x_baybayin, test_y_baybayin)\n",
    "test_img = np.expand_dims(test_img, axis=0)\n",
    "\n",
    "# Show predicted class of the random image\n",
    "pred_arr = new_model3.predict(test_img)\n",
    "print('\\n\\nThe predictied baybayin character is', baybayin_list[pred_arr.argmax()], 'with a', pred_arr.max(), 'probability')"
   ]
  }
 ],
 "metadata": {
  "accelerator": "GPU",
  "colab": {
   "collapsed_sections": [
    "u6ikkSHeIEtu",
    "zPkhNL2ba1j7",
    "FzNumH70bVCN",
    "x5QcGP41bn8s",
    "JR1F_szvbwC7"
   ],
   "name": "ELEC3_Implementation_v2.ipynb",
   "provenance": []
  },
  "kernelspec": {
   "display_name": "Python 3",
   "language": "python",
   "name": "python3"
  },
  "language_info": {
   "codemirror_mode": {
    "name": "ipython",
    "version": 3
   },
   "file_extension": ".py",
   "mimetype": "text/x-python",
   "name": "python",
   "nbconvert_exporter": "python",
   "pygments_lexer": "ipython3",
   "version": "3.8.5"
  }
 },
 "nbformat": 4,
 "nbformat_minor": 1
}
